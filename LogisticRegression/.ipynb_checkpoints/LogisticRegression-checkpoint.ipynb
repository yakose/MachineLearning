{
 "cells": [
  {
   "cell_type": "code",
   "execution_count": null,
   "metadata": {
    "collapsed": true
   },
   "outputs": [],
   "source": [
    "import pandas as pd"
   ]
  },
  {
   "cell_type": "markdown",
   "metadata": {},
   "source": [
    "# I have 2 dataset to use for experiment on this topic\n",
    "1. Now I will do some explanatory data analysis to figure \n",
    "out which variables have direct and clear impact on employee retention(i.e whether they leave the company or contine to work)\n",
    "\n",
    "2. Plot bar chats showing impact of employee salaries or retention\n",
    "\n",
    "3. Plot bar chart showing coreltion between department and employee retention\n",
    "\n",
    "4. Now build the logistic regression model using variables that were narrowed down in step 1\n",
    "\n",
    "5. measure the accuracy of the model"
   ]
  },
  {
   "cell_type": "code",
   "execution_count": null,
   "metadata": {
    "collapsed": true
   },
   "outputs": [],
   "source": []
  }
 ],
 "metadata": {
  "kernelspec": {
   "display_name": "Python 3",
   "language": "python",
   "name": "python3"
  },
  "language_info": {
   "codemirror_mode": {
    "name": "ipython",
    "version": 3
   },
   "file_extension": ".py",
   "mimetype": "text/x-python",
   "name": "python",
   "nbconvert_exporter": "python",
   "pygments_lexer": "ipython3",
   "version": "3.6.6"
  }
 },
 "nbformat": 4,
 "nbformat_minor": 2
}
